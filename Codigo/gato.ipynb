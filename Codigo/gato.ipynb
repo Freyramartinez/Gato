{
 "cells": [
  {
   "cell_type": "code",
   "execution_count": 2,
   "metadata": {},
   "outputs": [],
   "source": [
    "import tkinter as tk\n",
    "from tkinter import messagebox\n",
    "\n",
    "class Gato:\n",
    "    def __init__(self):\n",
    "        self.window = tk.Tk()\n",
    "        self.window.title(\"Juego del gato\")\n",
    "        self.window.geometry(\"250x250\")\n",
    "        self.player_turn = \"o\"\n",
    "\n",
    "        self.buttons = []\n",
    "        for i in range(3):\n",
    "            row = []\n",
    "            for j in range(3):\n",
    "                button = tk.Button(self.window, command=lambda row=i, column=j: self.click(row, column), height=3, width=6)\n",
    "                button.grid(row=i, column=j)\n",
    "                row.append(button)\n",
    "            self.buttons.append(row)\n",
    "\n",
    "    def click(self, row, column):\n",
    "        if self.buttons[row][column]['text'] == \"\":\n",
    "            self.buttons[row][column]['text'] = self.player_turn\n",
    "            if self.check_win():\n",
    "                messagebox.showinfo(\"Juego terminado\", f\"El jugador {self.player_turn} gana.\")\n",
    "                self.window.quit()\n",
    "            self.player_turn = \"x\" if self.player_turn == \"o\" else \"o\"\n",
    "\n",
    "    def check_win(self):\n",
    "        for row in self.buttons:\n",
    "            if row[0]['text'] == row[1]['text'] == row[2]['text'] != \"\":\n",
    "                return True\n",
    "        for column in range(3):\n",
    "            if self.buttons[0][column]['text'] == self.buttons[1][column]['text'] == self.buttons[2][column]['text'] != \"\":\n",
    "                return True\n",
    "        if self.buttons[0][0]['text'] == self.buttons[1][1]['text'] == self.buttons[2][2]['text'] != \"\":\n",
    "            return True\n",
    "        if self.buttons[0][2]['text'] == self.buttons[1][1]['text'] == self.buttons[2][0]['text'] != \"\":\n",
    "            return True\n",
    "        return False\n",
    "    \n",
    "    def run(self):\n",
    "        self.window.mainloop()\n",
    "\n",
    "if __name__ == \"__main__\":\n",
    "    game = Gato()\n",
    "    game.run()"
   ]
  }
 ],
 "metadata": {
  "kernelspec": {
   "display_name": "Python 3",
   "language": "python",
   "name": "python3"
  },
  "language_info": {
   "codemirror_mode": {
    "name": "ipython",
    "version": 3
   },
   "file_extension": ".py",
   "mimetype": "text/x-python",
   "name": "python",
   "nbconvert_exporter": "python",
   "pygments_lexer": "ipython3",
   "version": "3.12.5"
  }
 },
 "nbformat": 4,
 "nbformat_minor": 2
}
